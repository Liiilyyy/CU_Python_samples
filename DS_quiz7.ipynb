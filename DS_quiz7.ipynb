{
 "cells": [
  {
   "cell_type": "markdown",
   "metadata": {},
   "source": [
    "# Week 7 Quiz\n",
    "\n",
    "## Lili Tan - lt2846"
   ]
  },
  {
   "cell_type": "markdown",
   "metadata": {},
   "source": [
    "### Instructions\n",
    "\n",
    "Replace the Name and UNI in cell above and the notebook name\n",
    "\n",
    "Replace all '____' below using the instructions provided.\n",
    "\n",
    "When completed, \n",
    " - make sure you've replaced Name and UNI in the first cell and filename (eg: week_07_quiz-hw2592)\n",
    " - Click the github link shared on canvas for quiz7 to generate your own repository of quiz7\n",
    " - Click your own repository of quiz7 to commit your answers to github"
   ]
  },
  {
   "cell_type": "markdown",
   "metadata": {},
   "source": [
    "In this quiz we will practice creating a train/test split and compare training and test set accuracy of a trained k-Nearest Neighbor model against a baseline."
   ]
  },
  {
   "cell_type": "code",
   "execution_count": 1,
   "metadata": {},
   "outputs": [],
   "source": [
    "import numpy as np\n",
    "from sklearn.datasets import load_breast_cancer"
   ]
  },
  {
   "cell_type": "code",
   "execution_count": 2,
   "metadata": {},
   "outputs": [
    {
     "name": "stdout",
     "output_type": "stream",
     "text": [
      "num_observations: 569\n",
      "num_features:     30\n",
      "classes:          [0, 1]\n"
     ]
    }
   ],
   "source": [
    "# Load the sample breast_cancer dataset from Scikit-Learn returning just the \n",
    "#   X features and y label (instead of the full Bunch data-structure)\n",
    "#   This is a common binary classification task dataset used for demonstration.\n",
    "#   For more information, see:\n",
    "#     https://scikit-learn.org/stable/datasets/index.html#breast-cancer-dataset\n",
    "X,y = load_breast_cancer(return_X_y=True)\n",
    "\n",
    "print(f'num_observations: {X.shape[0]}')\n",
    "print(f'num_features:     {X.shape[1]}')\n",
    "print(f'classes:          {list(set(y))}')"
   ]
  },
  {
   "cell_type": "code",
   "execution_count": 3,
   "metadata": {},
   "outputs": [],
   "source": [
    "# Import the train_test_split function from sklearn.model_selection\n",
    "from sklearn.model_selection import train_test_split\n",
    "\n",
    "# Split X and y into X_train,X_test,y_train,y_test using train_test_split, \n",
    "#    stratify using y, using the default test_size (0.25).\n",
    "X_train, X_test, y_train, y_test = train_test_split(X, y, stratify=y,random_state=123)\n",
    "\n",
    "\n",
    "# Check that the distribution of classes is similar in train and test\n",
    "assert ((y_train == 0).sum() / len(y_train) - \n",
    "        (y_test == 0).sum() / len(y_test)) < .01"
   ]
  },
  {
   "cell_type": "code",
   "execution_count": 4,
   "metadata": {},
   "outputs": [
    {
     "name": "stdout",
     "output_type": "stream",
     "text": [
      "dummy training set accuracy: 0.63\n",
      "    dummy test set accuracy: 0.63\n"
     ]
    }
   ],
   "source": [
    "# Get a baseline \n",
    "\n",
    "# Import DummyClassifier from sklearn\n",
    "from sklearn.dummy import DummyClassifier\n",
    "\n",
    "#   Instantiate DummyClassifier with strategy=\"most_frequent\"\n",
    "#      and fit on X_train, y_train\n",
    "#      store as dummy_c\n",
    "dummy_c = DummyClassifier(strategy='most_frequent').fit(X_train,y_train)\n",
    "\n",
    "# print out the training set accuracy using dummy_c.score()\n",
    "print(f'dummy training set accuracy: {dummy_c.score(X_train,y_train):0.2f}')\n",
    "\n",
    "# print out the test set accuracy using dummy_c.score()\n",
    "print(f'    dummy test set accuracy: {dummy_c.score(X_test,y_test):0.2f}')"
   ]
  },
  {
   "cell_type": "code",
   "execution_count": 5,
   "metadata": {},
   "outputs": [
    {
     "name": "stdout",
     "output_type": "stream",
     "text": [
      "knn training set accuracy: 0.96\n",
      "    knn test set accuracy: 0.91\n"
     ]
    }
   ],
   "source": [
    "# Train and compare a K Nearest Neighbors classifier\n",
    "\n",
    "# Import KNeighborsClassifier from sklearn\n",
    "from sklearn.neighbors import KNeighborsClassifier\n",
    "\n",
    "# Instantiate a KNeighborsClassifier with n_neighbors=3\n",
    "#    and train on X_train,y_train\n",
    "#    store as knn\n",
    "knn = KNeighborsClassifier(n_neighbors=3).fit(X_train,y_train)\n",
    "\n",
    "# print out the training set accuracy using knn.score()\n",
    "print(f'knn training set accuracy: {knn.score(X_train,y_train):0.2f}')\n",
    "\n",
    "# print out the test set accuracy using knn.score()\n",
    "print(f'    knn test set accuracy: {knn.score(X_test,y_test):0.2f}')"
   ]
  },
  {
   "cell_type": "code",
   "execution_count": 6,
   "metadata": {},
   "outputs": [
    {
     "name": "stdout",
     "output_type": "stream",
     "text": [
      "[[46  7]\n",
      " [ 6 84]]\n"
     ]
    }
   ],
   "source": [
    "# To expose the different kinds of errors that our knn model is making,\n",
    "#   print a confusion matrix \n",
    "\n",
    "# import confusion_matrix from sklearn.metrics\n",
    "from sklearn.metrics import confusion_matrix\n",
    "\n",
    "# generate a confusion_matrix using using y_test \n",
    "#    and the predictions generated by the trained knn model on X_test\n",
    "#    store as cm\n",
    "cm = confusion_matrix(y_test,knn.predict(X_test))\n",
    "\n",
    "print(cm)"
   ]
  },
  {
   "cell_type": "code",
   "execution_count": 7,
   "metadata": {},
   "outputs": [
    {
     "data": {
      "image/png": "[encoded data removed]",
      "text/plain": [
       "<Figure size 432x288 with 1 Axes>"
      ]
     },
     "metadata": {
      "needs_background": "light"
     },
     "output_type": "display_data"
    }
   ],
   "source": [
    "# To help interpret the output of confusion_matrix, \n",
    "#    use plot_confusion_matrix from mlxtend\n",
    "\n",
    "# Import the plot_confusion_matrix function from mlxtend.plotting\n",
    "from mlxtend.plotting import plot_confusion_matrix\n",
    "\n",
    "# call plot_confusion_matrix() on the output of \n",
    "#   confusion_matrix generated above (cm)\n",
    "plot_confusion_matrix(cm);"
   ]
  }
 ],
 "metadata": {
  "kernelspec": {
   "display_name": "eods-s22",
   "language": "python",
   "name": "eods-s22"
  },
  "language_info": {
   "codemirror_mode": {
    "name": "ipython",
    "version": 3
   },
   "file_extension": ".py",
   "mimetype": "text/x-python",
   "name": "python",
   "nbconvert_exporter": "python",
   "pygments_lexer": "ipython3",
   "version": "3.9.9"
  }
 },
 "nbformat": 4,
 "nbformat_minor": 2
}