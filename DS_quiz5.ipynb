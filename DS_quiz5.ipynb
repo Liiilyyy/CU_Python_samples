{
 "cells": [
  {
   "cell_type": "markdown",
   "metadata": {},
   "source": [
    "# Week 5 Quiz\n",
    "\n",
    "## Lili Tan - lt2846"
   ]
  },
  {
   "cell_type": "markdown",
   "metadata": {},
   "source": [
    "### Instructions\n",
    "\n",
    "Replace the Name and UNI in cell above and the notebook name\n",
    "\n",
    "Replace all '____' below using the instructions provided.\n",
    "\n",
    "When completed, \n",
    " - make sure you've replaced Name and UNI in the first cell and filename (eg: week_05_quiz-hw2592)\n",
    " - Click the github link shared on canvas for quiz5 to generate your own repository of quiz5\n",
    " - Click your own repository of quiz5 to commit your answers to github"
   ]
  },
  {
   "cell_type": "code",
   "execution_count": 1,
   "metadata": {},
   "outputs": [],
   "source": [
    "import pandas as pd\n",
    "import numpy as np\n",
    "import matplotlib.pyplot as plt\n",
    "import seaborn as sns\n",
    "\n",
    "sns.set_style('darkgrid')\n",
    "%matplotlib inline"
   ]
  },
  {
   "cell_type": "code",
   "execution_count": 2,
   "metadata": {},
   "outputs": [
    {
     "data": {
      "text/html": [
       "<div>\n",
       "<style scoped>\n",
       "    .dataframe tbody tr th:only-of-type {\n",
       "        vertical-align: middle;\n",
       "    }\n",
       "\n",
       "    .dataframe tbody tr th {\n",
       "        vertical-align: top;\n",
       "    }\n",
       "\n",
       "    .dataframe thead th {\n",
       "        text-align: right;\n",
       "    }\n",
       "</style>\n",
       "<table border=\"1\" class=\"dataframe\">\n",
       "  <thead>\n",
       "    <tr style=\"text-align: right;\">\n",
       "      <th></th>\n",
       "      <th>Chins</th>\n",
       "      <th>Situps</th>\n",
       "      <th>Jumps</th>\n",
       "      <th>Weight</th>\n",
       "    </tr>\n",
       "  </thead>\n",
       "  <tbody>\n",
       "    <tr>\n",
       "      <th>0</th>\n",
       "      <td>5.0</td>\n",
       "      <td>162.0</td>\n",
       "      <td>60.0</td>\n",
       "      <td>191.0</td>\n",
       "    </tr>\n",
       "    <tr>\n",
       "      <th>1</th>\n",
       "      <td>2.0</td>\n",
       "      <td>110.0</td>\n",
       "      <td>60.0</td>\n",
       "      <td>189.0</td>\n",
       "    </tr>\n",
       "    <tr>\n",
       "      <th>2</th>\n",
       "      <td>12.0</td>\n",
       "      <td>101.0</td>\n",
       "      <td>101.0</td>\n",
       "      <td>193.0</td>\n",
       "    </tr>\n",
       "  </tbody>\n",
       "</table>\n",
       "</div>"
      ],
      "text/plain": [
       "   Chins  Situps  Jumps  Weight\n",
       "0    5.0   162.0   60.0   191.0\n",
       "1    2.0   110.0   60.0   189.0\n",
       "2   12.0   101.0  101.0   193.0"
      ]
     },
     "execution_count": 2,
     "metadata": {},
     "output_type": "execute_result"
    }
   ],
   "source": [
    "# Sklearn provides a set of commonly used example datasets. \n",
    "# They can be accessed through the datasets submodule.\n",
    "from sklearn import datasets\n",
    "\n",
    "# We're going to use the Linnerud dataset to practice Regression in sklearn.\n",
    "\n",
    "# The Linnerud dataset is a tiny multi-output regression dataset. It consists \n",
    "# of three excercise (data) and three physiological (target) variables \n",
    "# collected from twenty middle-aged men in a fitness club.\n",
    "linnerud = datasets.load_linnerud()\n",
    "\n",
    "# The features of the dataset contain data on 3 exercises\n",
    "# Chins - number of chinups\n",
    "# Situps - number of situps\n",
    "# Jumps - number of jumping jacks\n",
    "\n",
    "# Note that the features and target come as numpy matrices.\n",
    "# We'll first load the features into a pandas dataframe.\n",
    "df = pd.DataFrame(linnerud.data,columns=linnerud.feature_names)\n",
    "\n",
    "# We'll also add the target to our dataframe.\n",
    "# Note also that this dataset contains multiple targets.\n",
    "# We'll only consider one of them: Weight\n",
    "df['Weight'] = linnerud.target[:,linnerud.target_names.index('Weight')]\n",
    "\n",
    "# For more information on the dataset, uncomment the print command below\n",
    "#print(linnerud.DESCR)\n",
    "\n",
    "# print the first 3 rows\n",
    "df.head(3)"
   ]
  },
  {
   "cell_type": "code",
   "execution_count": 3,
   "metadata": {},
   "outputs": [
    {
     "data": {
      "image/png": "[encoded data removed]",
      "text/plain": [
       "<Figure size 432x288 with 1 Axes>"
      ]
     },
     "metadata": {
      "needs_background": "light"
     },
     "output_type": "display_data"
    }
   ],
   "source": [
    "# What is the relationship between Situps and Weight?\n",
    "\n",
    "# Plot a scatterplot and best-fit line for x=Situps vs y=Weight\n",
    "#    using seaborn sns.regplot()\n",
    "sns.regplot(x='Situps',y='Weight',data=df);"
   ]
  },
  {
   "cell_type": "code",
   "execution_count": 4,
   "metadata": {},
   "outputs": [
    {
     "name": "stdout",
     "output_type": "stream",
     "text": [
      "we expect -0.19 Weight to go down when Situps goes up by 1\n",
      "we expect weight to be 206.92 when Situps is 0\n"
     ]
    }
   ],
   "source": [
    "# The above plot should indicate a negative relationship \n",
    "#    between Situps and Weight\n",
    "# How much does Weight go down if Situps goes up?\n",
    "# To answer this we'll train a simple linear model.\n",
    "\n",
    "# First import LinearRegression from sklearn.linear_model\n",
    "from sklearn.linear_model import LinearRegression\n",
    "\n",
    "# Create a variable X containing the independent variable 'Situps'\n",
    "# Note that sklearn expects X to be two dimensional\n",
    "#   so you must use one of the methods discussed in class\n",
    "#   to return a two dimensional object\n",
    "X = df.Situps.values.reshape(-1,1)\n",
    "\n",
    "# Create a variable y containing the dependent variable 'Weight'\n",
    "# Note that y should only be one dimensional, \n",
    "#    so a Series (single column of a dataframe) works fine here\n",
    "y = df.Weight\n",
    "\n",
    "# Instantiate a LinearRegression object with default parameter settings\n",
    "#   and store as lr\n",
    "lr = LinearRegression()\n",
    "\n",
    "# Fit lr using the X and y defined above\n",
    "lr.fit(X=X,y=y);\n",
    "\n",
    "# Using the learned parameters in coef_ and intercept_, \n",
    "#   by how much do we expect Weight to go down when Situps goes up by 1?\n",
    "# Print with a precision of 2\n",
    "print(f'we expect {lr.coef_[0]:0.2f} Weight to go down when Situps goes up by 1')\n",
    "\n",
    "# Using the learned parameters in coef_ and intercept_, \n",
    "#   what should we expect weight to be when when Situps is 0?\n",
    "# Print with a precision of 2\n",
    "print(f'we expect weight to be {lr.intercept_:0.2f} when Situps is 0')"
   ]
  },
  {
   "cell_type": "code",
   "execution_count": 5,
   "metadata": {},
   "outputs": [
    {
     "name": "stdout",
     "output_type": "stream",
     "text": [
      "Chins     :-0.475\n",
      "Situps    :-0.218\n",
      "Jumps     :0.093\n",
      "intercept :208.23\n"
     ]
    }
   ],
   "source": [
    "# How is Weight related to all 3 features?\n",
    "\n",
    "# Create a list containing the 3 feature names we're interested in \n",
    "#    as strings: Chins, Situps, Jumps\n",
    "# Store as feature_names\n",
    "# We'll do this to make sure we don't include 'Weight' in the \n",
    "#    regression as an independent variable\n",
    "feature_names = ['Chins', 'Situps', 'Jumps']\n",
    "\n",
    "# Instantiate a second LinearRegression model with default parameters\n",
    "#    and store as mlr\n",
    "# Fit this model using all of the columns in feature_names\n",
    "# Note that here we can pass the 2D dataframe without needing to .reshape(), etc.\n",
    "mlr = LinearRegression()\n",
    "mlr.fit(df[feature_names],y=df.Weight)\n",
    "\n",
    "# For each feature name in feature_names, print out the name and \n",
    "#    corresponding learned coefficient\n",
    "# It looks like one of the features actually has a positive relationship. \n",
    "# Print coefficient values with a precision of 2.\n",
    "for (name,coef) in zip(feature_names,mlr.coef_):\n",
    "    print(f'{name:10s}:{coef:0.3f}')\n",
    "print(f'{\"intercept\":10s}:{mlr.intercept_:0.2f}')"
   ]
  },
  {
   "cell_type": "code",
   "execution_count": 6,
   "metadata": {},
   "outputs": [
    {
     "data": {
      "text/html": [
       "<table class=\"simpletable\">\n",
       "<caption>OLS Regression Results</caption>\n",
       "<tr>\n",
       "  <th>Dep. Variable:</th>         <td>Weight</td>      <th>  R-squared:         </th> <td>   0.268</td>\n",
       "</tr>\n",
       "<tr>\n",
       "  <th>Model:</th>                   <td>OLS</td>       <th>  Adj. R-squared:    </th> <td>   0.131</td>\n",
       "</tr>\n",
       "<tr>\n",
       "  <th>Method:</th>             <td>Least Squares</td>  <th>  F-statistic:       </th> <td>   1.952</td>\n",
       "</tr>\n",
       "<tr>\n",
       "  <th>Date:</th>             <td>Wed, 16 Feb 2022</td> <th>  Prob (F-statistic):</th>  <td> 0.162</td> \n",
       "</tr>\n",
       "<tr>\n",
       "  <th>Time:</th>                 <td>10:21:24</td>     <th>  Log-Likelihood:    </th> <td> -88.876</td>\n",
       "</tr>\n",
       "<tr>\n",
       "  <th>No. Observations:</th>      <td>    20</td>      <th>  AIC:               </th> <td>   185.8</td>\n",
       "</tr>\n",
       "<tr>\n",
       "  <th>Df Residuals:</th>          <td>    16</td>      <th>  BIC:               </th> <td>   189.7</td>\n",
       "</tr>\n",
       "<tr>\n",
       "  <th>Df Model:</th>              <td>     3</td>      <th>                     </th>     <td> </td>   \n",
       "</tr>\n",
       "<tr>\n",
       "  <th>Covariance Type:</th>      <td>nonrobust</td>    <th>                     </th>     <td> </td>   \n",
       "</tr>\n",
       "</table>\n",
       "<table class=\"simpletable\">\n",
       "<tr>\n",
       "     <td></td>       <th>coef</th>     <th>std err</th>      <th>t</th>      <th>P>|t|</th>  <th>[0.025</th>    <th>0.975]</th>  \n",
       "</tr>\n",
       "<tr>\n",
       "  <th>Chins</th>  <td>   -0.4750</td> <td>    1.393</td> <td>   -0.341</td> <td> 0.738</td> <td>   -3.428</td> <td>    2.478</td>\n",
       "</tr>\n",
       "<tr>\n",
       "  <th>Situps</th> <td>   -0.2177</td> <td>    0.138</td> <td>   -1.583</td> <td> 0.133</td> <td>   -0.509</td> <td>    0.074</td>\n",
       "</tr>\n",
       "<tr>\n",
       "  <th>Jumps</th>  <td>    0.0931</td> <td>    0.139</td> <td>    0.671</td> <td> 0.512</td> <td>   -0.201</td> <td>    0.387</td>\n",
       "</tr>\n",
       "<tr>\n",
       "  <th>const</th>  <td>  208.2335</td> <td>   13.451</td> <td>   15.481</td> <td> 0.000</td> <td>  179.718</td> <td>  236.749</td>\n",
       "</tr>\n",
       "</table>\n",
       "<table class=\"simpletable\">\n",
       "<tr>\n",
       "  <th>Omnibus:</th>       <td> 1.292</td> <th>  Durbin-Watson:     </th> <td>   2.213</td>\n",
       "</tr>\n",
       "<tr>\n",
       "  <th>Prob(Omnibus):</th> <td> 0.524</td> <th>  Jarque-Bera (JB):  </th> <td>   0.219</td>\n",
       "</tr>\n",
       "<tr>\n",
       "  <th>Skew:</th>          <td> 0.077</td> <th>  Prob(JB):          </th> <td>   0.896</td>\n",
       "</tr>\n",
       "<tr>\n",
       "  <th>Kurtosis:</th>      <td> 3.489</td> <th>  Cond. No.          </th> <td>    463.</td>\n",
       "</tr>\n",
       "</table><br/><br/>Notes:<br/>[1] Standard Errors assume that the covariance matrix of the errors is correctly specified."
      ],
      "text/plain": [
       "<class 'statsmodels.iolib.summary.Summary'>\n",
       "\"\"\"\n",
       "                            OLS Regression Results                            \n",
       "==============================================================================\n",
       "Dep. Variable:                 Weight   R-squared:                       0.268\n",
       "Model:                            OLS   Adj. R-squared:                  0.131\n",
       "Method:                 Least Squares   F-statistic:                     1.952\n",
       "Date:                Wed, 16 Feb 2022   Prob (F-statistic):              0.162\n",
       "Time:                        10:21:24   Log-Likelihood:                -88.876\n",
       "No. Observations:                  20   AIC:                             185.8\n",
       "Df Residuals:                      16   BIC:                             189.7\n",
       "Df Model:                           3                                         \n",
       "Covariance Type:            nonrobust                                         \n",
       "==============================================================================\n",
       "                 coef    std err          t      P>|t|      [0.025      0.975]\n",
       "------------------------------------------------------------------------------\n",
       "Chins         -0.4750      1.393     -0.341      0.738      -3.428       2.478\n",
       "Situps        -0.2177      0.138     -1.583      0.133      -0.509       0.074\n",
       "Jumps          0.0931      0.139      0.671      0.512      -0.201       0.387\n",
       "const        208.2335     13.451     15.481      0.000     179.718     236.749\n",
       "==============================================================================\n",
       "Omnibus:                        1.292   Durbin-Watson:                   2.213\n",
       "Prob(Omnibus):                  0.524   Jarque-Bera (JB):                0.219\n",
       "Skew:                           0.077   Prob(JB):                        0.896\n",
       "Kurtosis:                       3.489   Cond. No.                         463.\n",
       "==============================================================================\n",
       "\n",
       "Notes:\n",
       "[1] Standard Errors assume that the covariance matrix of the errors is correctly specified.\n",
       "\"\"\""
      ]
     },
     "execution_count": 6,
     "metadata": {},
     "output_type": "execute_result"
    }
   ],
   "source": [
    "# NOT REQUIRED\n",
    "\n",
    "# For those that are interested exploring how statsmodels works\n",
    "\n",
    "# Import the statsmodels api as sm\n",
    "import statsmodels.api as sm\n",
    "\n",
    "# Store the 3 features from df as X\n",
    "X = df[['Chins', 'Situps', 'Jumps']].copy()\n",
    "\n",
    "# Add a constant to X (in order to learn the bias term) using sm.add_constant()\n",
    "X['const'] = 1\n",
    "\n",
    "# Instantiate and fit an OLS model using X and df.Weight as y \n",
    "#   and store as sm_model\n",
    "# Note that in OLS, the target y is the first parameter!\n",
    "y = df.Weight\n",
    "sm_model = sm.OLS(y,X).fit()\n",
    "\n",
    "# Display the model summary\n",
    "# Note that the coefficients in the summary match the values\n",
    "#    found above using sklearn\n",
    "sm_model.summary()"
   ]
  }
 ],
 "metadata": {
  "kernelspec": {
   "display_name": "eods-s22",
   "language": "python",
   "name": "eods-s22"
  },
  "language_info": {
   "codemirror_mode": {
    "name": "ipython",
    "version": 3
   },
   "file_extension": ".py",
   "mimetype": "text/x-python",
   "name": "python",
   "nbconvert_exporter": "python",
   "pygments_lexer": "ipython3",
   "version": "3.9.9"
  }
 },
 "nbformat": 4,
 "nbformat_minor": 4
}
