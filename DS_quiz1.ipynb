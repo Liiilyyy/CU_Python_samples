{
 "cells": [
  {
   "cell_type": "markdown",
   "id": "dfd2f334",
   "metadata": {},
   "source": [
    "# 1. System Setup"
   ]
  },
  {
   "cell_type": "code",
   "execution_count": 1,
   "id": "6c53af32",
   "metadata": {},
   "outputs": [
    {
     "name": "stdout",
     "output_type": "stream",
     "text": [
      "python version: 3.9.9 | packaged by conda-forge | (main, Dec 20 2021, 02:38:53) \n",
      "[Clang 11.1.0 ]\n",
      "pandas version: 1.3.5\n",
      "sklearn version: 0.24.2\n",
      "pandas path: ['/Users/ly/opt/anaconda3/envs/eods-s22/lib/python3.9/site-packages/pandas']\n"
     ]
    }
   ],
   "source": [
    "import sys\n",
    "import pandas\n",
    "import sklearn\n",
    "print('python version:',sys.version)\n",
    "print('pandas version:',pandas.__version__)\n",
    "print('sklearn version:',sklearn.__version__)\n",
    "print('pandas path:',pandas.__path__)"
   ]
  },
  {
   "cell_type": "markdown",
   "id": "fd8037ae",
   "metadata": {},
   "source": [
    "# 2. Survey\n",
    "## I have filled the survey.\n",
    "\n",
    "[Course Survey](https://forms.gle/9Evf6NcPA1yE94526)"
   ]
  },
  {
   "cell_type": "markdown",
   "id": "4a97d0c3",
   "metadata": {},
   "source": [
    "# 3. Print Out"
   ]
  },
  {
   "cell_type": "code",
   "execution_count": 3,
   "id": "1fd15922",
   "metadata": {},
   "outputs": [
    {
     "name": "stdout",
     "output_type": "stream",
     "text": [
      "I have DONE the survey for EODS, my UNI is: lt2846, and my github id is: Liiilyyy (97854347)\n"
     ]
    }
   ],
   "source": [
    "!mkdir tmp\n",
    "!echo 'print(\"I have DONE the survey for EODS, my UNI is: {}, and my github id is: {}\".format(\"lt2846\",\"Liiilyyy (97854347)\"))' > ./tmp/survey_response.py\n",
    "%run ./tmp/survey_response.py"
   ]
  }
 ],
 "metadata": {
  "kernelspec": {
   "display_name": "eods-s22",
   "language": "python",
   "name": "eods-s22"
  },
  "language_info": {
   "codemirror_mode": {
    "name": "ipython",
    "version": 3
   },
   "file_extension": ".py",
   "mimetype": "text/x-python",
   "name": "python",
   "nbconvert_exporter": "python",
   "pygments_lexer": "ipython3",
   "version": "3.9.9"
  }
 },
 "nbformat": 4,
 "nbformat_minor": 5
}
